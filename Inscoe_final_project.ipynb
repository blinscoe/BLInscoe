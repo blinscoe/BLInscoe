{
 "cells": [
  {
   "cell_type": "markdown",
   "metadata": {
    "slideshow": {
     "slide_type": "slide"
    }
   },
   "source": [
    "# Brandon Inscoe\n",
    "## Final Semester Project\n",
    "## Heat Flow in a Rod Using the Finite Difference Method (FDM)"
   ]
  },
  {
   "cell_type": "code",
   "execution_count": 109,
   "metadata": {
    "slideshow": {
     "slide_type": "skip"
    }
   },
   "outputs": [],
   "source": [
    "from __future__ import division, print_function\n",
    "import numpy as np\n",
    "import scipy as sp\n",
    "import matplotlib.pyplot as plt\n",
    "import imageio as im\n",
    "from IPython.display import Image\n",
    "from tqdm import tqdm\n",
    "from mplEasyAnimate import animation"
   ]
  },
  {
   "cell_type": "markdown",
   "metadata": {
    "slideshow": {
     "slide_type": "slide"
    }
   },
   "source": [
    "In this project, I am looking into the heat flow of a rod. The rod is initially at room temperature of $20^{\\circ}$Celsius. A heat source of $100^{\\circ}$Celsius is placed at one end, while the other end is held at room temperature. How will the heat spread throughout the rod?"
   ]
  },
  {
   "cell_type": "markdown",
   "metadata": {
    "slideshow": {
     "slide_type": "slide"
    }
   },
   "source": [
    "To calculate this, I will use the Finite Difference Method (FDM).\n",
    "To begin, I will use the Transient Heat Conduction Eqn.:\n",
    "$${\\rho}c_p {\\lambda}\\Big({\\frac{dT}{dt}}\\Big) = {\\lambda}\\Big({\\frac{d^2 T}{dx^2}}\\Big) $$\n",
    "where\n",
    "$${\\frac{dT}{dt}} = {\\frac{T^{n+1}_i - T^{n}_i}{\\Delta{t}}}$$\n",
    "and\n",
    "$${\\frac{d^{2}T}{dt^{2}}} = {\\frac{T^{n}_{i+1} - 2T^{n}_i + T^{n}_{i-1}}{\\Delta{t}}}$$"
   ]
  },
  {
   "cell_type": "markdown",
   "metadata": {
    "slideshow": {
     "slide_type": "slide"
    }
   },
   "source": [
    "Substituting these values back in as the derivatives and solving for $T^{n+1}_i$, the time step for location $i$ is \n",
    "$$T^{n+1}_i = T^{n}_i + {\\Delta{t}} {\\frac{\\lambda}{{\\rho}c_p}}\\Big({\\frac{T^{n}_{i+1} - 2T^{n}_i + T^{n}_{i-1}}{(\\Delta{x})^2}}\\Big)$$"
   ]
  },
  {
   "cell_type": "code",
   "execution_count": 110,
   "metadata": {
    "slideshow": {
     "slide_type": "slide"
    }
   },
   "outputs": [],
   "source": [
    "# Spatial conditions\n",
    "\n",
    "L = 0.5   #Length of rod (0.5 meter)\n",
    "\n",
    "dx = 0.01   #interval of length\n",
    "nx = int(L/dx)+1    # number of calculating points\n",
    "x = np.linspace(0,L,nx)  #number of x-locations"
   ]
  },
  {
   "cell_type": "code",
   "execution_count": 111,
   "metadata": {
    "slideshow": {
     "slide_type": "slide"
    }
   },
   "outputs": [],
   "source": [
    "# Time conditions\n",
    "t_sim = 1200  #simulation time, 300s = 5 min, 1200s = 20 min\n",
    "dt = 0.5      #change in time\n",
    "nt = int(t_sim/dt)  #number of time steps"
   ]
  },
  {
   "cell_type": "code",
   "execution_count": 112,
   "metadata": {
    "slideshow": {
     "slide_type": "slide"
    }
   },
   "outputs": [],
   "source": [
    "# Material properties (I used information for cast iron)\n",
    "rho = 7874   #density of rod, kg/m^3\n",
    "cp = 460    # heat capacitance of material, J/kg/K\n",
    "hc = 55     #heat conductance of material W/m/k"
   ]
  },
  {
   "cell_type": "code",
   "execution_count": 113,
   "metadata": {
    "slideshow": {
     "slide_type": "skip"
    }
   },
   "outputs": [],
   "source": [
    "T_A = 293.15\n",
    "T = np.ones(nx)*T_A\n",
    "\n",
    "for n in range(1,nt):\n",
    "    \n",
    "    Tn = T.copy()\n",
    "    \n",
    "    T[1:-1] = Tn[1:-1]+ dt*(hc/(rho*cp))*(Tn[2:]-2*Tn[1:-1] + Tn[0:-2])/dx**2\n",
    "    \n",
    "    T[0] = 373.15\n",
    "    T[-1] = T[-2]\n",
    "    \n",
    "\n"
   ]
  },
  {
   "cell_type": "code",
   "execution_count": 114,
   "metadata": {
    "slideshow": {
     "slide_type": "slide"
    }
   },
   "outputs": [
    {
     "data": {
      "image/png": "[encoded data removed]",
      "text/plain": [
       "<Figure size 432x288 with 1 Axes>"
      ]
     },
     "metadata": {},
     "output_type": "display_data"
    }
   ],
   "source": [
    "plt.figure()\n",
    "plt.title(\"Equalibrium temperature after 20 min (for cast iron)\")\n",
    "plt.xlabel('x position of rod')\n",
    "plt.ylabel('Temperature in deg C')\n",
    "plt.plot(x,T-273.15)\n",
    "plt.show()\n",
    "#plt.savefig('rod_equil.jpg', format = 'jpg', dpi=500)"
   ]
  },
  {
   "cell_type": "code",
   "execution_count": 115,
   "metadata": {
    "slideshow": {
     "slide_type": "skip"
    }
   },
   "outputs": [],
   "source": [
    "from IPython.display import HTML\n",
    "\n",
    "def playVideo(path):\n",
    "    return HTML(\"\"\"\n",
    "                <video width=\"320\" height=\"240\" controls>\n",
    "                  <source src=\"{}\" type=\"video/mp4\">\n",
    "                </video>\n",
    "                \"\"\".format(path))"
   ]
  },
  {
   "cell_type": "code",
   "execution_count": 116,
   "metadata": {
    "slideshow": {
     "slide_type": "skip"
    }
   },
   "outputs": [
    {
     "name": "stderr",
     "output_type": "stream",
     "text": [
      "100%|██████████| 1200/1200 [01:55<00:00, 10.39it/s]\n"
     ]
    }
   ],
   "source": [
    "t = 0\n",
    "images = []\n",
    "Ta = []\n",
    "#Ta.append(t)\n",
    "#xa = []\n",
    "#plt.figure(figsize=(6,7), dpi=100)\n",
    "T_A = 293.15\n",
    "T = np.ones(nx)*T_A\n",
    "anim = animation('TestVideo.mp4', fps=30)\n",
    "for n in tqdm(range(t_sim)):\n",
    "    \n",
    "    t = t + 1\n",
    "    \n",
    "    Ta.append(t)\n",
    "    \n",
    "    Tn = T.copy()\n",
    "    \n",
    "    T[1:-1] = Tn[1:-1]+ dt*(hc/(rho*cp))*(Tn[2:]-2*Tn[1:-1] + Tn[0:-2])/dx**2\n",
    "    \n",
    "    T[0] = 373.15\n",
    "    T[-1] = T[-2]\n",
    "    fig = plt.figure()\n",
    "    plt.title('Equalibrium temperature after 20 min (for cast iron)')\n",
    "    plt.plot(Ta[n],'b-')\n",
    "    plt.plot(x,T-273.15,'K')\n",
    "    plt.xlabel('x-position of rod')\n",
    "    plt.ylabel('temperature, deg C')\n",
    "    plt.ylim(0, 110)\n",
    "    \n",
    "\n",
    "    \n",
    "    anim.add_frame(fig)\n",
    "    plt.close(fig)\n",
    "anim.close()\n",
    "\n"
   ]
  },
  {
   "cell_type": "code",
   "execution_count": 117,
   "metadata": {
    "slideshow": {
     "slide_type": "slide"
    }
   },
   "outputs": [
    {
     "data": {
      "text/html": [
       "\n",
       "                <video width=\"320\" height=\"240\" controls>\n",
       "                  <source src=\"TestVideo.mp4\" type=\"video/mp4\">\n",
       "                </video>\n",
       "                "
      ],
      "text/plain": [
       "<IPython.core.display.HTML object>"
      ]
     },
     "execution_count": 117,
     "metadata": {},
     "output_type": "execute_result"
    }
   ],
   "source": [
    "playVideo('TestVideo.mp4')"
   ]
  },
  {
   "cell_type": "markdown",
   "metadata": {
    "slideshow": {
     "slide_type": "slide"
    }
   },
   "source": [
    "I also did it with a blowtorch, which has a flame temperature of $1300^{\\circ}$Celsius."
   ]
  },
  {
   "cell_type": "code",
   "execution_count": 118,
   "metadata": {
    "slideshow": {
     "slide_type": "skip"
    }
   },
   "outputs": [
    {
     "name": "stderr",
     "output_type": "stream",
     "text": [
      "100%|██████████| 1200/1200 [01:51<00:00, 10.75it/s]\n"
     ]
    }
   ],
   "source": [
    "t = 0\n",
    "images = []\n",
    "Ta = []\n",
    "#Ta.append(t)\n",
    "#xa = []\n",
    "#plt.figure(figsize=(6,7), dpi=100)\n",
    "T_A = 293.15\n",
    "T = np.ones(nx)*T_A\n",
    "anim = animation('TestVideo2.mp4', fps=30)\n",
    "for n in tqdm(range(t_sim)):\n",
    "    \n",
    "    t = t + 1\n",
    "    \n",
    "    Ta.append(t)\n",
    "    \n",
    "    Tn = T.copy()\n",
    "    \n",
    "    T[1:-1] = Tn[1:-1]+ dt*(hc/(rho*cp))*(Tn[2:]-2*Tn[1:-1] + Tn[0:-2])/dx**2\n",
    "    \n",
    "    T[0] = 1573.15\n",
    "    T[-1] = T[-2]\n",
    "    fig = plt.figure()\n",
    "    plt.title('Equalibrium temperature after 20 min (using blowtorch)')\n",
    "    plt.plot(Ta[n],'b-')\n",
    "    plt.plot(x,T-273.15,'K')\n",
    "    plt.xlabel('x-position of rod')\n",
    "    plt.ylabel('temperature, deg C')\n",
    "    #plt.ylim(0, 110)\n",
    "    \n",
    "\n",
    "    \n",
    "    anim.add_frame(fig)\n",
    "    plt.close(fig)\n",
    "anim.close()\n",
    "\n"
   ]
  },
  {
   "cell_type": "code",
   "execution_count": 119,
   "metadata": {
    "slideshow": {
     "slide_type": "slide"
    }
   },
   "outputs": [
    {
     "data": {
      "text/html": [
       "\n",
       "                <video width=\"320\" height=\"240\" controls>\n",
       "                  <source src=\"TestVideo2.mp4\" type=\"video/mp4\">\n",
       "                </video>\n",
       "                "
      ],
      "text/plain": [
       "<IPython.core.display.HTML object>"
      ]
     },
     "execution_count": 119,
     "metadata": {},
     "output_type": "execute_result"
    }
   ],
   "source": [
    "playVideo('TestVideo2.mp4')"
   ]
  },
  {
   "cell_type": "markdown",
   "metadata": {
    "slideshow": {
     "slide_type": "slide"
    }
   },
   "source": [
    "## Conclusion\n",
    "\n",
    "If a heat source is placed at one end of the rod and left there, while the other end is still at room temperature, the temperature in the rod will settle to a steady temperature at each x-position of the rod. I used various temperatures from a heat sources such as a blowtorch, which has a flame temperature of $1300^{\\circ}$Celsius. The curves had relatively the same shape. I used the FDM because this application is similar to a load on a string."
   ]
  },
  {
   "cell_type": "markdown",
   "metadata": {
    "slideshow": {
     "slide_type": "slide"
    }
   },
   "source": [
    "## <font color='red'> Questions?</font>"
   ]
  },
  {
   "cell_type": "markdown",
   "metadata": {
    "slideshow": {
     "slide_type": "skip"
    }
   },
   "source": [
    "## Bibliography\n",
    "\n",
    "Wang, Jay; _Computational Modeling and Visualization of Physical Systems With Python_; (Wiley, 2015)\n",
    "\n",
    "https://stackoverflow.com/questions/47129097/ftcs-algorithm-for-the-heat-equation\n",
    "\n",
    "https://scicomp.stackexchange.com/questions/18828/temperature-dependent-1-d-conduction-in-python\n",
    "\n",
    "Thanks to Thomas Boudreaux for his help with the EasyAnimate package."
   ]
  },
  {
   "cell_type": "code",
   "execution_count": null,
   "metadata": {
    "slideshow": {
     "slide_type": "skip"
    }
   },
   "outputs": [],
   "source": []
  }
 ],
 "metadata": {
  "celltoolbar": "Slideshow",
  "kernelspec": {
   "display_name": "Python 3",
   "language": "python",
   "name": "python3"
  },
  "language_info": {
   "codemirror_mode": {
    "name": "ipython",
    "version": 3
   },
   "file_extension": ".py",
   "mimetype": "text/x-python",
   "name": "python",
   "nbconvert_exporter": "python",
   "pygments_lexer": "ipython3",
   "version": "3.6.5"
  }
 },
 "nbformat": 4,
 "nbformat_minor": 2
}
